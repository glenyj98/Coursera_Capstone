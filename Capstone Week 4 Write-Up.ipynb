{
    "cells": [
        {
            "cell_type": "markdown",
            "metadata": {
                "collapsed": true
            },
            "source": "Problem and Background\n\nIf someone wanted to move from one neighborhood in Washington DC to a similar neighborhood, what are their options?  Washington DC is a very diverse city and the capital of the United States.  The city is broken up into 8 wards numbered 1 -8, and is comprised of 131 neighborhoods.  Washington DC has a competitive job market, with opportunities all over the city.  Business professionals often like to live within walking/biking distance of their job.  If a person accepts a job offer in a different ward, and would like to move closer to their new office building, but likes the characteristics of their current neighborhood, it would be desirable to identify similar neighborhoods in the new area."
        },
        {
            "cell_type": "markdown",
            "metadata": {},
            "source": "Data\n\nWikipedia has a page that lists the 8 wards of DC and the neighborhoods belonging to each ward (https://en.wikipedia.org/wiki/Neighborhoods_in_Washington,_D.C.).   I will scrape this data from the webpage and us the Nominatim library to enrich that data with the latitude and longitude of each neighborhood.  This data will be used to query Foursquare to gather data about popular venues in each neighborhood.  That data will be used to segment and cluster the neighborhoods allowing identification of neighborhoods with similar characteristics. "
        }
    ],
    "metadata": {
        "kernelspec": {
            "display_name": "Python 3.7",
            "language": "python",
            "name": "python3"
        },
        "language_info": {
            "codemirror_mode": {
                "name": "ipython",
                "version": 3
            },
            "file_extension": ".py",
            "mimetype": "text/x-python",
            "name": "python",
            "nbconvert_exporter": "python",
            "pygments_lexer": "ipython3",
            "version": "3.7.10"
        }
    },
    "nbformat": 4,
    "nbformat_minor": 1
}